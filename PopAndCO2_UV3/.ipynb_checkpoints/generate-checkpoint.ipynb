{
 "cells": [
  {
   "cell_type": "markdown",
   "metadata": {},
   "source": [
    "# Population and CO2\n",
    "\n",
    "### Building a visualization similar to this app http://worldpopulationhistory.org/map/1/mercator/1/0/25/\n",
    "\n",
    "Using a datafile scraped from their site"
   ]
  },
  {
   "cell_type": "markdown",
   "metadata": {},
   "source": [
    "### Imports and function definitions"
   ]
  },
  {
   "cell_type": "code",
   "execution_count": 44,
   "metadata": {
    "collapsed": false
   },
   "outputs": [],
   "source": [
    "#This directory contains all the data needed for the module. It should be in the same directory as the notebook\n",
    "dataFolder = \"data\" \n",
    "import sys, os, shutil, errno, string, urllib\n",
    "\n",
    "\n",
    "sys.path.append(( os.path.abspath( os.path.join(os.path.realpath(\"__file__\"),  os.pardir, os.pardir, os.pardir) )))\n",
    "import uvmodlib.v1 as uvmod"
   ]
  },
  {
   "cell_type": "code",
   "execution_count": 45,
   "metadata": {
    "collapsed": true
   },
   "outputs": [],
   "source": [
    "# Run this if you want to build in 3.0 rather than 2.0\n",
    "from config import Settings\n",
    "Settings.uvcustommodulelocation='C:\\\\Users\\\\msubbarao\\\\SCISS\\\\Uniview Theater 3.0\\\\Custom Modules'"
   ]
  },
  {
   "cell_type": "markdown",
   "metadata": {},
   "source": [
    "### USES Conf Template for Population Animation"
   ]
  },
  {
   "cell_type": "code",
   "execution_count": 46,
   "metadata": {
    "collapsed": true
   },
   "outputs": [],
   "source": [
    "popTemplate='''mesh\n",
    "{\n",
    "    data popData    ./modules/$folderName/pop.uvstream\n",
    "    data co2Data    ./modules/$folderName/co2.uvstream\n",
    "    data  quad ./modules/$folderName/quad.3ds\n",
    "    data  quad2 ./modules/$folderName/ScreenAlignedQuad.3ds\n",
    "\n",
    "    cullRadius $cr\n",
    "    glslVersion 330\n",
    "\n",
    "    propertyCollection\n",
    "    {\n",
    "        __objectName__\n",
    "        {\n",
    "            vec1f transitionLength 20.0 | public | desc \"transition length in seconds\" \n",
    "            bool jump true | public            \n",
    "            bool simBindRealtime False | public | desc \"bind the time of this model to the actual time in Uniview (0=no, 1=yes)\"\n",
    "            vec1f showTime 1950 | public | desc \"show the population at this date\" | widget slider | range 1800 2100\n",
    "            vec1f popSize 4.0 | public | desc \"population marker size\" | widget slider | range 0 6\n",
    "            vec4f popColor 1 0.6 0 1.0 | public | desc \"population marker color\" | widget color_rgba \n",
    "            vec1f co2Size 2.5 | public | desc \"co2 marker size\" | widget slider | range 0 5\n",
    "            vec4f co2Color 1 0 0 0.0 | public | desc \"co2 marker color\" | widget color_rgba \n",
    "            # Properties for the date counter\n",
    "            vec1f counterAzimuth          0.0  | public | desc \"azimuth of the counter in degrees\" | widget slider | range  -180 180             \n",
    "            vec1f counterAltitude          10.0  | public |  desc \"altitude of the counter in degrees\" | widget slider | range  -30 30      \n",
    "            vec2f counterSize              20 6  | public | desc \"angular size of the counter in degrees\"     \n",
    "            vec1f counterDepth             0.001  | public | desc \"depth of the counter in 3d space\"\n",
    "            vec4f counterColor             1 1 1 1  | public | desc \"color of the counter\" | widget color_rgba\n",
    "        }\n",
    "\n",
    "    }\n",
    "    renderTexture\n",
    "    {\n",
    "        name                      stateTexture\n",
    "        width                     1\n",
    "        height                    1\n",
    "        numTextures               1\n",
    "        isPingPong                true\n",
    "        isPersistent              true\n",
    "        isFramePersistent         true\n",
    "        internalTextureFormat     GL_RGB32F\n",
    "        magnify                   GL_NEAREST\n",
    "        minify                    GL_NEAREST\n",
    "    }\n",
    "    pass #set Transition State\n",
    "    {\n",
    "        useDataObject quad\n",
    "        renderTarget\n",
    "        {\n",
    "            name stateTexture\n",
    "            enableColorClear false\n",
    "        }\n",
    "         shader\n",
    "        {\n",
    "            type defaultMeshShader\n",
    "            {\n",
    "                vertexShader   ./modules/$folderName/pass0.vs\n",
    "                fragmentShader ./modules/$folderName/State.fs\n",
    "                textureFBO stateTexture stateTexture\n",
    "                stateManagerVar __objectName__.transitionLength transitionLength \n",
    "                stateManagerVar __objectName__.jump            jump \n",
    "                stateManagerVar __objectName__.showTime      showTime \n",
    "                parameter2f timeRange 200 2100\n",
    "           }\n",
    "        }      \n",
    "    }\n",
    "    \n",
    "    pass #population\n",
    "    {\n",
    "        passEnable true\n",
    "\n",
    "        useDataObject popData\n",
    "\n",
    "        shader\n",
    "        {\n",
    "            type defaultMeshShader\n",
    "            {        \n",
    "                stateManagerVar __objectName__.Alpha                uv_alpha\n",
    "                StateManagerVar __objectName__.simBindRealtime simBindRealtime\n",
    "                StateManagerVar __objectName__.popSize popSize\n",
    "                StateManagerVar __objectName__.popColor popColor\n",
    "\n",
    "                vertexShader ./modules/$folderName/pop_shader.vs\n",
    "                fragmentShader ./modules/$folderName/pop_shader.fs                \n",
    "                geometryShader ./modules/$folderName/pop_shader.gs\n",
    "                textureFBO stateTexture stateTexture\n",
    "\n",
    "                glState\n",
    "                {\n",
    "                    UV_CULL_FACE_ENABLE true\n",
    "                    UV_DEPTH_ENABLE false\n",
    "                    UV_BLEND_ENABLE true\n",
    "                    UV_WRITE_MASK_DEPTH true\n",
    "                    #UV_BLEND_FUNC GL_ONE GL_ONE_MINUS_SRC_ALPHA\n",
    "                }\n",
    "             }\n",
    "        }\n",
    "    }\n",
    "    pass #co2\n",
    "    {\n",
    "        passEnable true\n",
    "\n",
    "        useDataObject co2Data\n",
    "\n",
    "        shader\n",
    "        {\n",
    "            type defaultMeshShader\n",
    "            {        \n",
    "                stateManagerVar __objectName__.Alpha                uv_alpha\n",
    "                StateManagerVar __objectName__.simBindRealtime simBindRealtime\n",
    "                StateManagerVar __objectName__.co2Size co2Size\n",
    "                StateManagerVar __objectName__.co2Color co2Color\n",
    "\n",
    "                vertexShader ./modules/$folderName/co2_shader.vs\n",
    "                fragmentShader ./modules/$folderName/co2_shader.fs                \n",
    "                geometryShader ./modules/$folderName/co2_shader.gs\n",
    "                textureFBO stateTexture stateTexture\n",
    "\n",
    "                glState\n",
    "                {\n",
    "                    UV_CULL_FACE_ENABLE true\n",
    "                    UV_DEPTH_ENABLE false\n",
    "                    UV_BLEND_ENABLE true\n",
    "                    UV_WRITE_MASK_DEPTH true\n",
    "                    #UV_BLEND_FUNC GL_ONE GL_ONE_MINUS_SRC_ALPHA\n",
    "                }\n",
    "             }\n",
    "        }\n",
    "    }\n",
    "    pass # YearLabels\n",
    "    {\n",
    "        passEnable true\n",
    "        passScale 200000\n",
    "        useDataObject quad2\n",
    "        shader\n",
    "        {\n",
    "            type defaultMeshShader\n",
    "            {\n",
    "                vertexShader      ./modules/$folderName/imagePass.vs\n",
    "                fragmentShader    ./modules/$folderName/numbersPass.fs\n",
    "                textureFBO stateTexture stateTexture\n",
    "                                \n",
    "                stateManagerVar __objectName__.counterAzimuth        azimuth\n",
    "                stateManagerVar __objectName__.counterAltitude       altitude\n",
    "                stateManagerVar __objectName__.counterSize           imageQuadSize\n",
    "                stateManagerVar __objectName__.counterDepth          imageDepth\n",
    "                stateManagerVar __objectName__.counterColor          imageColor\n",
    "                stateManagerVar __objectName__.Alpha               uv_alpha\n",
    "                texture numbersTex ./modules/$folderName/BigNumbers.dds\n",
    "                {\n",
    "                }  \n",
    " \n",
    "                 glState\n",
    "                {\n",
    "                    UV_CULL_FACE_ENABLE false\n",
    "                    UV_BLEND_ENABLE true\n",
    "                    UV_POLY_FRONT_AND_BACK_MODE GL_FILL\n",
    "                }   \n",
    "            }\n",
    "        }   \n",
    "    }\n",
    "\n",
    "}\n",
    "\n",
    "'''"
   ]
  },
  {
   "cell_type": "markdown",
   "metadata": {},
   "source": [
    "## UVStream"
   ]
  },
  {
   "cell_type": "code",
   "execution_count": 47,
   "metadata": {
    "collapsed": true
   },
   "outputs": [],
   "source": [
    "UVSTREAM='''<?xml version=\"1.0\" encoding=\"UTF-8\" standalone=\"no\"?>\n",
    "<DataStream version=\"0.1\">\n",
    "    <PrimitiveType>points</PrimitiveType>\n",
    "    <DataBindings>\n",
    "        <Variable>\n",
    "            <Name>begin_year</Name>         \n",
    "            <Type>float</Type>\n",
    "        </Variable>             \n",
    "        <Variable>\n",
    "            <Name>end_year</Name>         \n",
    "            <Type>float</Type>\n",
    "        </Variable>             \n",
    "        <Variable>\n",
    "            <Name>longitude</Name>         \n",
    "            <Type>float</Type>\n",
    "        </Variable>             \n",
    "        <Variable>\n",
    "            <Name>latitude</Name>         \n",
    "            <Type>float</Type>\n",
    "        </Variable>             \n",
    "        <Variable>\n",
    "            <Name>rndFive</Name>         \n",
    "            <Type>float</Type>\n",
    "        </Variable>             \n",
    "    </DataBindings>\n",
    "\n",
    "    <CSVData>\n",
    "        <Path>pop.csv</Path>\n",
    "        <Headers>\n",
    "            <Variable>              \n",
    "                <Cols>0</Cols>\n",
    "            </Variable>\n",
    "            <Variable>              \n",
    "                <Cols>1</Cols>\n",
    "            </Variable>                     \n",
    "            <Variable>              \n",
    "                <Cols>2</Cols>\n",
    "            </Variable>                     \n",
    "            <Variable>              \n",
    "                <Cols>3</Cols>\n",
    "            </Variable>                     \n",
    "            <Variable>              \n",
    "                <Cols>4</Cols>\n",
    "            </Variable>                     \n",
    "         </Headers>\n",
    "    </CSVData>\n",
    "</DataStream>  \n",
    "'''"
   ]
  },
  {
   "cell_type": "code",
   "execution_count": 48,
   "metadata": {
    "collapsed": true
   },
   "outputs": [],
   "source": [
    "uvStreamFile=open('data/pop.uvstream','w')\n",
    "uvStreamFile.write(UVSTREAM)\n",
    "uvStreamFile.close()"
   ]
  },
  {
   "cell_type": "code",
   "execution_count": 49,
   "metadata": {
    "collapsed": true
   },
   "outputs": [],
   "source": [
    "UVSTREAM='''<?xml version=\"1.0\" encoding=\"UTF-8\" standalone=\"no\"?>\n",
    "<DataStream version=\"0.1\">\n",
    "    <PrimitiveType>points</PrimitiveType>\n",
    "    <DataBindings>\n",
    "        <Variable>\n",
    "            <Name>year</Name>         \n",
    "            <Type>float</Type>\n",
    "        </Variable>                         \n",
    "        <Variable>\n",
    "            <Name>longitude</Name>         \n",
    "            <Type>float</Type>\n",
    "        </Variable>             \n",
    "        <Variable>\n",
    "            <Name>latitude</Name>         \n",
    "            <Type>float</Type>\n",
    "        </Variable>             \n",
    "        <Variable>\n",
    "            <Name>co2</Name>         \n",
    "            <Type>float</Type>\n",
    "        </Variable>             \n",
    "    </DataBindings>\n",
    "\n",
    "    <CSVData>\n",
    "        <Path>co2.csv</Path>\n",
    "        <Headers>\n",
    "            <Variable>              \n",
    "                <Cols>0</Cols>\n",
    "            </Variable>\n",
    "            <Variable>              \n",
    "                <Cols>1</Cols>\n",
    "            </Variable>                     \n",
    "            <Variable>              \n",
    "                <Cols>2</Cols>\n",
    "            </Variable>                     \n",
    "            <Variable>              \n",
    "                <Cols>3</Cols>\n",
    "            </Variable>                                        \n",
    "         </Headers>\n",
    "    </CSVData>\n",
    "</DataStream>  \n",
    "'''"
   ]
  },
  {
   "cell_type": "code",
   "execution_count": 50,
   "metadata": {
    "collapsed": true
   },
   "outputs": [],
   "source": [
    "uvStreamFile=open('data/co2.uvstream','w')\n",
    "uvStreamFile.write(UVSTREAM)\n",
    "uvStreamFile.close()"
   ]
  },
  {
   "cell_type": "markdown",
   "metadata": {},
   "source": [
    "### Population and CO2 Class"
   ]
  },
  {
   "cell_type": "code",
   "execution_count": 51,
   "metadata": {
    "collapsed": true
   },
   "outputs": [],
   "source": [
    "class popClass():\n",
    "    def __init__(self, object):\n",
    "        self.object = object\n",
    "        uvmod.Utility.ensurerelativepathexsists(\"pop_shader.gs\",dataFolder)\n",
    "        uvmod.Utility.ensurerelativepathexsists(\"pop_shader.vs\",dataFolder)\n",
    "        uvmod.Utility.ensurerelativepathexsists(\"pop_shader.fs\",dataFolder)\n",
    "        self.ColorMultiplier = \"1 1 1 1\"\n",
    "        self.Scale = 1\n",
    "        self.cr = 1000\n",
    "    def setColorMultiplier(self,ColorMultiplier):\n",
    "        self.ColorMultiplier = \" \".join(str(c) for c in ColorMultiplier)\n",
    "    def setScale(self,Scale):\n",
    "        self.Scale = Scale\n",
    "    def setRotationAngle(self,RotationAngle):\n",
    "        self.RotationAngle = RotationAngle\n",
    "    def generatemod(self):\n",
    "        self.object.setgeometry(self.object.name+\"Mesh.usesconf\")\n",
    "        return self.object.generatemod()\n",
    "    def generatefiles(self, absOutDir, relOutDir):\n",
    "        fileName = self.object.name+\"Mesh.usesconf\"\n",
    "        s = string.Template(popTemplate)\n",
    "        f = open(absOutDir+\"\\\\\"+fileName, 'w')\n",
    "        if f:\n",
    "            f.write(s.substitute(folderName = relOutDir,\n",
    "                                 cr = self.cr,\n",
    "                                 ColorMultiplier = self.ColorMultiplier,\n",
    "                                 Scale = self.Scale))\n",
    "            f.close()\n",
    "        uvmod.Utility.copyfoldercontents(os.getcwd()+\"\\\\\"+dataFolder, absOutDir)"
   ]
  },
  {
   "cell_type": "markdown",
   "metadata": {},
   "source": [
    "### Object Instantiation"
   ]
  },
  {
   "cell_type": "code",
   "execution_count": 52,
   "metadata": {
    "collapsed": true
   },
   "outputs": [],
   "source": [
    "popMap = popClass(uvmod.OrbitalObject())\n",
    "generator = uvmod.Generator()\n",
    "scene = uvmod.Scene()\n",
    "modinfo = uvmod.ModuleInformation()"
   ]
  },
  {
   "cell_type": "markdown",
   "metadata": {},
   "source": [
    "### Specify Settings and generate the module"
   ]
  },
  {
   "cell_type": "code",
   "execution_count": 53,
   "metadata": {
    "collapsed": false
   },
   "outputs": [],
   "source": [
    "popMap.object.showatstartup(True)\n",
    "popMap.object.setcameraradius(10)\n",
    "popMap.object.setcoord(\"Earth\")\n",
    "popMap.object.setname(\"PopAndCO2\")\n",
    "popMap.object.setguiname(\"/KavliLecture/Schrag/Population and CO2\")\n",
    "popMap.object.settargetradius(20)\n",
    "popMap.object.showatstartup(False)\n",
    "popMap.setColorMultiplier((1.,1.,1.,1.))\n",
    "popMap.setScale(100)\n",
    "popMap.cr = 10000\n",
    "popMap.object.custom = \"bin 9999\"\n",
    "popMap.object.custom += \"\"\"\n",
    "    rotation\n",
    "\t{\n",
    "\t\tspice\n",
    "\t\t{\n",
    "\t\t\tframe\t\tIAU_EARTH \n",
    "\t\t\treference\tECLIPJ2000\n",
    "\t\t}\n",
    "\t}\"\"\"\n",
    "\n",
    "\n",
    "modinfo.setname(\"Population and CO2\")\n",
    "modinfo.setauthor(\"Mark SubbaRao<sup>1</sup> and Daniel Schrag<sup>2</sup><br />(1)Adler Planetarium,<br />(2)Harvard University\")\n",
    "modinfo.cleardependencies()\n",
    "modinfo.setdesc(\"Population and CO2 emmissions over time. Each dot represents 1 million people<br /> \\\n",
    "                The data are from here: http://worldpopulationhistory.org/ <br/> \")\n",
    "#modinfo.setthumbnail(\"data/thumb.png\")\n",
    "modinfo.setversion(\"1.0\")\n",
    "\n",
    "generator.generate(\"PopAndCO2\",[],[popMap],modinfo)\n",
    "uvmod.Utility.senduvcommand(popMap.object.name+\".reload\")\n"
   ]
  },
  {
   "cell_type": "markdown",
   "metadata": {},
   "source": [
    "### Helper Functions for modifing code\n",
    "##### Reload Module and Shaders in Uniview"
   ]
  },
  {
   "cell_type": "code",
   "execution_count": 404,
   "metadata": {
    "collapsed": false,
    "scrolled": true
   },
   "outputs": [],
   "source": [
    "uvmod.Utility.senduvcommand(popMap.object.name+\".reload\")"
   ]
  },
  {
   "cell_type": "markdown",
   "metadata": {},
   "source": [
    "Copy modified Shader files and reload"
   ]
  },
  {
   "cell_type": "code",
   "execution_count": 405,
   "metadata": {
    "collapsed": true
   },
   "outputs": [],
   "source": [
    "from config import Settings\n"
   ]
  },
  {
   "cell_type": "code",
   "execution_count": 54,
   "metadata": {
    "collapsed": false,
    "scrolled": true
   },
   "outputs": [],
   "source": [
    "uvmod.Utility.copyfoldercontents(os.getcwd()+\"\\\\\"+dataFolder, Settings.uvcustommodulelocation+'\\\\'+popMap.object.name)\n",
    "uvmod.Utility.senduvcommand(popMap.object.name+\".reload\")"
   ]
  },
  {
   "cell_type": "code",
   "execution_count": null,
   "metadata": {
    "collapsed": true
   },
   "outputs": [],
   "source": []
  }
 ],
 "metadata": {
  "anaconda-cloud": {},
  "kernelspec": {
   "display_name": "Python [default]",
   "language": "python",
   "name": "python3"
  },
  "language_info": {
   "codemirror_mode": {
    "name": "ipython",
    "version": 3
   },
   "file_extension": ".py",
   "mimetype": "text/x-python",
   "name": "python",
   "nbconvert_exporter": "python",
   "pygments_lexer": "ipython3",
   "version": "3.5.2"
  }
 },
 "nbformat": 4,
 "nbformat_minor": 1
}
